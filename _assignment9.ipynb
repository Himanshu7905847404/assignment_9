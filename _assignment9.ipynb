{
 "cells": [
  {
   "cell_type": "code",
   "execution_count": 1,
   "id": "bc008b3e-8571-41ff-aa05-d59fff1059ed",
   "metadata": {},
   "outputs": [],
   "source": [
    "#Solution"
   ]
  },
  {
   "cell_type": "code",
   "execution_count": 20,
   "id": "fbf08e60-80a5-479a-a31e-f4b7100d6c1c",
   "metadata": {},
   "outputs": [
    {
     "name": "stdout",
     "output_type": "stream",
     "text": [
      "\n",
      "            Abstraction is hiding the details and implementation of the code.\n",
      "            \n",
      "        Abstraction is a process of hiding unnecessary data and showing only relevant data.\n",
      "        Out of an ocean of data, we are only maintaining the transparency of some data to the user. \n",
      "        This important concept in object-oriented programming will \n",
      "        reduce the complexity of the code and increases the readability.\n",
      "        \n",
      "        Abstraction is just a structured form of class which is acess by all other class to work separately .\n",
      "        \n",
      "            Let’s try to understand the concept of abstraction in python programming by a real-world example.\n",
      "                Suppose you working in the banking sector and a person came to you regarding opening an account. \n",
      "                A person is giving you the below details to open an account:\n",
      "                        1-  Name\n",
      "                        2-  Address\n",
      "                        3-  Tax information\n",
      "                        4-  Contact number\n",
      "                        5-  Favourite Food\n",
      "                        6-  Hobbies\n",
      "                        7-  Blood group\n",
      "            \n",
      "            But actually, not all the given information is required to open an account in the bank.\n",
      "            We need to use only the useful information that is necessary to open an account in a bank.\n",
      "                        1- Name\n",
      "                        2- Address\n",
      "                        3- Tax information\n",
      "                        4- Contact number\n",
      "            \n",
      "           \n"
     ]
    }
   ],
   "source": [
    "# Q1.\n",
    "\n",
    "print('''\n",
    "            Abstraction is hiding the details and implementation of the code.\n",
    "            \n",
    "        Abstraction is a process of hiding unnecessary data and showing only relevant data.\n",
    "        Out of an ocean of data, we are only maintaining the transparency of some data to the user. \n",
    "        This important concept in object-oriented programming will \n",
    "        reduce the complexity of the code and increases the readability.\n",
    "        \n",
    "        Abstraction is just a structured form of class which is acess by all other class to work separately .\n",
    "        \n",
    "            Let’s try to understand the concept of abstraction in python programming by a real-world example.\n",
    "                Suppose you working in the banking sector and a person came to you regarding opening an account. \n",
    "                A person is giving you the below details to open an account:\n",
    "                        1-  Name\n",
    "                        2-  Address\n",
    "                        3-  Tax information\n",
    "                        4-  Contact number\n",
    "                        5-  Favourite Food\n",
    "                        6-  Hobbies\n",
    "                        7-  Blood group\n",
    "            \n",
    "            But actually, not all the given information is required to open an account in the bank.\n",
    "            We need to use only the useful information that is necessary to open an account in a bank.\n",
    "                        1- Name\n",
    "                        2- Address\n",
    "                        3- Tax information\n",
    "                        4- Contact number\n",
    "            \n",
    "           ''')\n",
    "# Python program to define   \n",
    "# abstract class  \n",
    "import abc\n",
    "\n",
    "class person_information:\n",
    "    @abc.abstractmethod\n",
    "    def person_detail(self):\n",
    "        pass\n",
    "    @abc.abstractmethod\n",
    "    def set_person_detail(self):\n",
    "        pass\n",
    "    @abc.abstractmethod\n",
    "    def get_person_detail(self):\n",
    "        pass\n",
    "    "
   ]
  },
  {
   "cell_type": "code",
   "execution_count": 30,
   "id": "94d67211-6487-441b-b9bf-687998e6e407",
   "metadata": {},
   "outputs": [],
   "source": [
    "#Q 1,2\n",
    "class Himanshu(person_information):\n",
    "    \n",
    "    def person_detail(self,name,Address,tax_info,contact_no):\n",
    "        self.name=name\n",
    "        self.Address=Address\n",
    "        self.tax_info=tax_info\n",
    "        self.contact_no=contact_no\n",
    "        \n",
    "    def set_person_detail(self,a):\n",
    "        n=int(input('''\n",
    "                    press key what you want to change:\n",
    "                    \n",
    "                    1- name\n",
    "                    2- Address\n",
    "                    3-tax_information\n",
    "                    4- contact_number'''))\n",
    "        \n",
    "        if n==1:\n",
    "            self.name=a\n",
    "            return self.name\n",
    "        elif n==2:\n",
    "            self.Address=a\n",
    "            return self.Addres\n",
    "        elif n==3:\n",
    "            self.tax_info=a\n",
    "            return self.tax_info\n",
    "        elif n==4:\n",
    "            self.contact_no=a\n",
    "            return self.contact_no\n",
    "        else:\n",
    "            return \"no change at all\"\n",
    "    def get_person_detail(self):\n",
    "        return self.name, self.Address,self.tax_info,self.contact_no"
   ]
  },
  {
   "cell_type": "code",
   "execution_count": 31,
   "id": "5cf24359-747a-4c94-9659-b0c9cb869e98",
   "metadata": {},
   "outputs": [],
   "source": [
    "ob=Himanshu()"
   ]
  },
  {
   "cell_type": "code",
   "execution_count": 32,
   "id": "46ce747c-6883-4f40-8353-fcc95292053b",
   "metadata": {},
   "outputs": [],
   "source": [
    "ob.person_detail(\"himanshu\",\"Vill-Sitapur,dict-SPN\",5000,99999997)"
   ]
  },
  {
   "cell_type": "code",
   "execution_count": 33,
   "id": "772e736c-bff8-46f6-b02c-d4ace3aedfcb",
   "metadata": {},
   "outputs": [
    {
     "data": {
      "text/plain": [
       "('himanshu', 'Vill-Sitapur,dict-SPN', 5000, 99999997)"
      ]
     },
     "execution_count": 33,
     "metadata": {},
     "output_type": "execute_result"
    }
   ],
   "source": [
    "ob.get_person_detail()"
   ]
  },
  {
   "cell_type": "code",
   "execution_count": 34,
   "id": "b7f46355-841a-4190-8fcc-2edc592b4744",
   "metadata": {},
   "outputs": [
    {
     "data": {
      "text/plain": [
       "99999997"
      ]
     },
     "execution_count": 34,
     "metadata": {},
     "output_type": "execute_result"
    }
   ],
   "source": [
    "ob.contact_no"
   ]
  },
  {
   "cell_type": "code",
   "execution_count": 36,
   "id": "b9879ac1-107f-489e-973e-0ac2c2336085",
   "metadata": {},
   "outputs": [
    {
     "name": "stdin",
     "output_type": "stream",
     "text": [
      "\n",
      "                    press key what you want to change:\n",
      "                    \n",
      "                    1- name\n",
      "                    2- Address\n",
      "                    3-tax_information\n",
      "                    4- contact_number 1\n"
     ]
    },
    {
     "data": {
      "text/plain": [
       "'Aman'"
      ]
     },
     "execution_count": 36,
     "metadata": {},
     "output_type": "execute_result"
    }
   ],
   "source": [
    "ob.set_person_detail(\"Aman\")"
   ]
  },
  {
   "cell_type": "code",
   "execution_count": 37,
   "id": "321dda98-6437-4fdf-ba19-48fcca6f2b9c",
   "metadata": {},
   "outputs": [
    {
     "data": {
      "text/plain": [
       "('Aman', 'Vill-Sitapur,dict-SPN', 5000, 99999997)"
      ]
     },
     "execution_count": 37,
     "metadata": {},
     "output_type": "execute_result"
    }
   ],
   "source": [
    "ob.get_person_detail()"
   ]
  },
  {
   "cell_type": "code",
   "execution_count": null,
   "id": "a7d938b8-436d-4727-8efc-896e250dc3d4",
   "metadata": {},
   "outputs": [],
   "source": []
  },
  {
   "cell_type": "code",
   "execution_count": 56,
   "id": "37bf129b-6fa0-4a71-bef3-dd424873d3f1",
   "metadata": {},
   "outputs": [
    {
     "name": "stdout",
     "output_type": "stream",
     "text": [
      "\n",
      "        \n",
      "        Data abstraction in python and data encapsulation in python programming are related to each other. \n",
      "        The main point that is necessary here to note is that data abstraction is only possible to achieve through encapsulation.\n",
      "\n",
      "        Encapsulation means storing or placing data in a single place to make it easily readable and compact in one place. \n",
      "        Whereas data abstraction in python programming means to hide internal functionalities that are performing on the application using codes \n",
      "        and to show only essential information (class attributes).\n",
      "        \n",
      "        \n"
     ]
    }
   ],
   "source": [
    "# Q2.\n",
    "\n",
    "print('''\n",
    "        \n",
    "        Data abstraction in python and data encapsulation in python programming are related to each other. \n",
    "        The main point that is necessary here to note is that data abstraction is only possible to achieve through encapsulation.\n",
    "\n",
    "        Encapsulation means storing or placing data in a single place to make it easily readable and compact in one place. \n",
    "        Whereas data abstraction in python programming means to hide internal functionalities that are performing on the application using codes \n",
    "        and to show only essential information (class attributes).\n",
    "        \n",
    "        ''')\n",
    "#Example elaborating the approach of data encapsulation and abstraction in Python.\n",
    "# ex. of encapsule\n",
    "class Person:\n",
    "    def __init__(self,name,mobile_no,address):\n",
    "        self.__name = name\n",
    "        self.__mobile_no= mobile_no\n",
    "        self.__address= address\n",
    "    def get_information(self):\n",
    "        return self.__name,self.__mobile_no,self.__address\n",
    "    def set_information(self,a):\n",
    "        n=int(input('''\n",
    "                    press key to change detail:\n",
    "                    \n",
    "                    1- name\n",
    "                    2- mobile_no\n",
    "                    3- address'''))\n",
    "        if n==1:\n",
    "            self.__name=a\n",
    "            return self.__name\n",
    "        elif n==2:\n",
    "            self.__mobile_no=a\n",
    "            return self.__mobile_no\n",
    "        elif n==3:\n",
    "            self.__address=a\n",
    "            return self.__address\n",
    "        else:\n",
    "            return \"no change at all\"\n",
    "\n",
    "    "
   ]
  },
  {
   "cell_type": "code",
   "execution_count": 57,
   "id": "37dde2d0-33f2-4e92-adac-6fee345314b6",
   "metadata": {},
   "outputs": [],
   "source": [
    "ob=Person(\"Himanshu\",999999,\"Vill-sitapur,dict-SPN\")"
   ]
  },
  {
   "cell_type": "code",
   "execution_count": 58,
   "id": "c74ea2bd-c16c-4a23-9e46-d0f58be4341f",
   "metadata": {},
   "outputs": [
    {
     "data": {
      "text/plain": [
       "'Himanshu'"
      ]
     },
     "execution_count": 58,
     "metadata": {},
     "output_type": "execute_result"
    }
   ],
   "source": [
    "ob._Person__name"
   ]
  },
  {
   "cell_type": "code",
   "execution_count": 59,
   "id": "b237f0c0-cae7-474f-a228-2bb7cf19166b",
   "metadata": {},
   "outputs": [
    {
     "data": {
      "text/plain": [
       "('Himanshu', 999999, 'Vill-sitapur,dict-SPN')"
      ]
     },
     "execution_count": 59,
     "metadata": {},
     "output_type": "execute_result"
    }
   ],
   "source": [
    "ob.get_information()"
   ]
  },
  {
   "cell_type": "code",
   "execution_count": 60,
   "id": "2015c6d9-1780-428d-ab56-d30d879587d8",
   "metadata": {},
   "outputs": [
    {
     "name": "stdin",
     "output_type": "stream",
     "text": [
      "\n",
      "                    press key to change detail:\n",
      "                    \n",
      "                    1- name\n",
      "                    2- mobile_no\n",
      "                    3- address 3\n"
     ]
    },
    {
     "data": {
      "text/plain": [
       "'City-Gola,dict-Lakhimpur'"
      ]
     },
     "execution_count": 60,
     "metadata": {},
     "output_type": "execute_result"
    }
   ],
   "source": [
    "ob.set_information(\"City-Gola,dict-Lakhimpur\")"
   ]
  },
  {
   "cell_type": "code",
   "execution_count": 61,
   "id": "c87f8a5f-fac6-4ede-9bef-088184c42644",
   "metadata": {},
   "outputs": [
    {
     "data": {
      "text/plain": [
       "('Himanshu', 999999, 'City-Gola,dict-Lakhimpur')"
      ]
     },
     "execution_count": 61,
     "metadata": {},
     "output_type": "execute_result"
    }
   ],
   "source": [
    "ob.get_information()"
   ]
  },
  {
   "cell_type": "code",
   "execution_count": 62,
   "id": "2293eb16-ead9-4373-8d85-dda6f4603102",
   "metadata": {},
   "outputs": [
    {
     "name": "stdout",
     "output_type": "stream",
     "text": [
      "\n",
      "\n",
      "        Abstract Base Classes in Python (abc)\n",
      "        \n",
      "        The 'abc' module in Python library provides the infrastructure for defining custom abstract base classes.\n",
      "\n",
      "        'abc' works by marking methods of the base class as abstract. \n",
      "        \n",
      "        This is done by @absttractmethod decorator. \n",
      "        \n",
      "area:  200\n"
     ]
    }
   ],
   "source": [
    "#Q3.\n",
    "\n",
    "print('''\n",
    "\n",
    "        Abstract Base Classes in Python (abc)\n",
    "        \n",
    "        The 'abc' module in Python library provides the infrastructure for defining custom abstract base classes.\n",
    "\n",
    "        'abc' works by marking methods of the base class as abstract. \n",
    "        \n",
    "        This is done by @absttractmethod decorator. \n",
    "        ''')\n",
    "import abc\n",
    "class Shape(metaclass=abc.ABCMeta):\n",
    "    @abc.abstractmethod\n",
    "    def area(self):\n",
    "        pass\n",
    "class Rectangle(Shape):\n",
    "    def __init__(self, x,y):\n",
    "        self.l = x\n",
    "        self.b=y\n",
    "    def area(self):\n",
    "        return self.l*self.b\n",
    "r = Rectangle(10,20)\n",
    "print ('area: ',r.area())"
   ]
  },
  {
   "cell_type": "code",
   "execution_count": 9,
   "id": "354b3adc-f287-4b38-82f4-ed4483607773",
   "metadata": {},
   "outputs": [
    {
     "name": "stdout",
     "output_type": "stream",
     "text": [
      "\n",
      "\n",
      "        Data Abstraction in Python can be achieved through creating abstract classes and inheriting them later.\n",
      "        \n",
      "        \n",
      "area:  200\n"
     ]
    }
   ],
   "source": [
    "#Q4.\n",
    "\n",
    "print('''\n",
    "\n",
    "        Data Abstraction in Python can be achieved through creating abstract classes and inheriting them later.\n",
    "        \n",
    "        ''')\n",
    "import abc\n",
    "class Shape(metaclass=abc.ABCMeta):\n",
    "    @abc.abstractmethod\n",
    "    def area(self):\n",
    "        pass\n",
    "class Rectangle(Shape):\n",
    "    def __init__(self, x,y):\n",
    "        self.l = x\n",
    "        self.b=y\n",
    "    def area(self):\n",
    "        return self.l*self.b\n",
    "r = Rectangle(10,20)\n",
    "print ('area: ',r.area())"
   ]
  },
  {
   "cell_type": "code",
   "execution_count": 64,
   "id": "d3d68da2-341b-4ea9-9fcc-4f7d6fed1d0e",
   "metadata": {},
   "outputs": [
    {
     "name": "stdout",
     "output_type": "stream",
     "text": [
      "\n",
      "        Abstract classes cannot be instantiated, but they can be subclassed.\n",
      "        When an abstract class is subclassed, the subclass usually provides implementations for all of the abstract methods in its parent class. \n",
      "        However, if it does not, then the subclass must also be declared abstract .\n",
      "        \n"
     ]
    }
   ],
   "source": [
    "#Q5.\n",
    "\n",
    "print('''\n",
    "        Abstract classes cannot be instantiated, but they can be subclassed.\n",
    "        When an abstract class is subclassed, the subclass usually provides implementations for all of the abstract methods in its parent class. \n",
    "        However, if it does not, then the subclass must also be declared abstract .\n",
    "        ''')\n",
    "from abc import ABC,abstractmethod\n",
    " \n",
    "class Animal(ABC):\n",
    "    @abstractmethod\n",
    "    def move(self):\n",
    "        pass\n",
    "class Human(Animal):\n",
    "    def move(self):\n",
    "        print(\"I can walk and run\")\n",
    "class Snake(Animal):\n",
    "    def move(self):\n",
    "        print(\"I can crawl\")\n",
    "class Dog(Animal):\n",
    "    def move(self):\n",
    "        print(\"I can bark\")\n",
    "class Lion(Animal):\n",
    "    def move(self):\n",
    "        print(\"I can roar\")\n",
    "# c=Animal()"
   ]
  },
  {
   "cell_type": "code",
   "execution_count": 66,
   "id": "1de71227-ea9a-4b19-a9e2-56b1fbcf4bde",
   "metadata": {},
   "outputs": [],
   "source": [
    "ob=Human()"
   ]
  },
  {
   "cell_type": "code",
   "execution_count": 68,
   "id": "388a0e02-2bb0-4c65-aba6-dbd8d9608ee6",
   "metadata": {},
   "outputs": [
    {
     "name": "stdout",
     "output_type": "stream",
     "text": [
      "I can walk and run\n"
     ]
    }
   ],
   "source": [
    "ob.move()"
   ]
  },
  {
   "cell_type": "code",
   "execution_count": 69,
   "id": "65e281fb-167d-41f0-9ef5-1840dd5633ac",
   "metadata": {},
   "outputs": [],
   "source": [
    "ob1=Snake()"
   ]
  },
  {
   "cell_type": "code",
   "execution_count": 70,
   "id": "0c0f456f-00fd-4db7-b229-d45b908530bf",
   "metadata": {},
   "outputs": [
    {
     "name": "stdout",
     "output_type": "stream",
     "text": [
      "I can crawl\n"
     ]
    }
   ],
   "source": [
    "ob1.move()"
   ]
  },
  {
   "cell_type": "code",
   "execution_count": 72,
   "id": "47a55fa2-392a-4283-93ed-10d8cd78b0db",
   "metadata": {},
   "outputs": [],
   "source": [
    "ob2=Dog()"
   ]
  },
  {
   "cell_type": "code",
   "execution_count": 73,
   "id": "ad1f50a1-2d7e-48ab-b4fa-ebea4a2cef06",
   "metadata": {},
   "outputs": [
    {
     "name": "stdout",
     "output_type": "stream",
     "text": [
      "I can bark\n"
     ]
    }
   ],
   "source": [
    "ob2.move()"
   ]
  },
  {
   "cell_type": "code",
   "execution_count": null,
   "id": "f332a01e-ea2b-40b7-a13a-1449e52ef1b0",
   "metadata": {},
   "outputs": [],
   "source": [
    "ob3=L"
   ]
  }
 ],
 "metadata": {
  "kernelspec": {
   "display_name": "Python 3 (ipykernel)",
   "language": "python",
   "name": "python3"
  },
  "language_info": {
   "codemirror_mode": {
    "name": "ipython",
    "version": 3
   },
   "file_extension": ".py",
   "mimetype": "text/x-python",
   "name": "python",
   "nbconvert_exporter": "python",
   "pygments_lexer": "ipython3",
   "version": "3.10.8"
  }
 },
 "nbformat": 4,
 "nbformat_minor": 5
}
